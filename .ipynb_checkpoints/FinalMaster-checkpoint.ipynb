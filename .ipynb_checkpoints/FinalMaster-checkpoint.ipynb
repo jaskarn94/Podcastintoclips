{
 "cells": [
  {
   "cell_type": "code",
   "execution_count": 1,
   "metadata": {},
   "outputs": [],
   "source": [
    "#Code written by Jaskaran Singh Aulakh (jaskaran8642@gmail.com)\n",
    "\n",
    "#to download the latest episode\n",
    "import requests\n",
    "import urllib.request\n",
    "import re\n",
    "from bs4 import BeautifulSoup\n",
    "\n",
    "#extracting the latest episode number\n",
    "r = requests.get('https://feeds.buzzsprout.com/1121972.rss')\n",
    "soupd = BeautifulSoup(r.content, 'html.parser')\n",
    "episode_name = str(soupd.find_all('title')[2])\n",
    "episode_number= episode_name[11:13]\n",
    "\n",
    "#creating a folder with episode number in the local system\n",
    "import os\n",
    "parent_dir = os.getcwd()\n",
    "path = os.path.join(parent_dir, episode_number) \n",
    "os.mkdir(path)\n",
    "os.chdir(episode_number)"
   ]
  },
  {
   "cell_type": "code",
   "execution_count": 2,
   "metadata": {},
   "outputs": [],
   "source": [
    "# Dowloading the lastest podcast episode in mp3 format from the website\n",
    "mp=soupd.find_all(\"enclosure\")[0]\n",
    "mp3_url = mp.attrs['url']\n",
    "r = requests.get(mp3_url) \n",
    "with open(episode_number+\".mp3\",'wb') as f: \n",
    "    f.write(r.content) "
   ]
  },
  {
   "cell_type": "code",
   "execution_count": 3,
   "metadata": {},
   "outputs": [],
   "source": [
    "#code to write the description file\n",
    "import requests\n",
    "import urllib.request\n",
    "import re\n",
    "from bs4 import BeautifulSoup\n",
    "\n",
    "r = requests.get('https://feeds.buzzsprout.com/1121972.rss')\n",
    "soupc = BeautifulSoup(r.content, 'html.parser')\n",
    "ab = soupc.find_all('item')\n",
    "ab_small = ab[0].description\n",
    "ab_string = str(ab_small)\n",
    "xm = ab_string[22:-17]\n",
    "l = xm.split(\"<br>\")\n",
    "fine =[]\n",
    "#writing the description of the file into a untitled.txt file\n",
    "for x in l:\n",
    "    if re.findall(\":\",x):\n",
    "        fine.append(x)\n",
    "with open(\"untitled.txt\", \"w\") as output:\n",
    "    for x in fine:\n",
    "        x = x.replace(\"&nbsp;\",\"\")\n",
    "        output.write(x+'\\n')"
   ]
  },
  {
   "cell_type": "code",
   "execution_count": 4,
   "metadata": {},
   "outputs": [],
   "source": [
    "f = open(\"untitled.txt\",\"r+\")\n",
    "al = f.readlines()\n",
    "dic = {}\n",
    "for i in al:\n",
    "    a,b = i.split('[')\n",
    "   \n",
    "    b = b[0:-2]\n",
    "    \n",
    "    dic[b]=a\n",
    "m = 0\n",
    "big={}\n",
    "for i, j in dic.items():\n",
    "    big[m]=[i,j]\n",
    "    m=m+1\n",
    "for i in range(0,len(big)):\n",
    "    if len(big[i][0].split(':'))==2:\n",
    "        m = big[i][0].split(':')\n",
    "        \n",
    "        n = list(map(int,m))\n",
    "        n.insert(0,0)\n",
    "        e = ':'.join(map(str,n))\n",
    "        big[i][0]=e\n",
    "\n",
    "from pydub import AudioSegment\n",
    "\n",
    "files_path = ''\n",
    "file_name = episode_number\n",
    "\n",
    "for i in range(len(big)):\n",
    "    startMin = int(big[i][0].split(':')[1])\n",
    "    startSec = int(big[i][0].split(':')[2])\n",
    "    startHour = int(big[i][0].split(':')[0])\n",
    "    if i != (len(big)-1):\n",
    "        endMin = int(big[i+1][0].split(':')[1])\n",
    "        endSec = int(big[i+1][0].split(':')[2])\n",
    "        endHour = int(big[i+1][0].split(':')[0])\n",
    "        \n",
    "    song = AudioSegment.from_mp3(file_name+'.mp3' )\n",
    "# Time to seconds\n",
    "    startTime = startHour*60*60*1000+startMin*60*1000+startSec*1000\n",
    "    if i==(len(big)-1):\n",
    "        endTime = len(song)\n",
    "    else:\n",
    "        endTime = endHour*60*60*1000+ endMin*60*1000+endSec*1000\n",
    "\n",
    "# Opening file and extracting segment\n",
    "    \n",
    "    extract = song[startTime:endTime]\n",
    "\n",
    "# Saving\n",
    "    extract.export(str(episode_number)+big[i][1]+'.mp3', format=\"mp3\")\n",
    "       "
   ]
  },
  {
   "cell_type": "code",
   "execution_count": 1,
   "metadata": {},
   "outputs": [
    {
     "name": "stdout",
     "output_type": "stream",
     "text": [
      "Enter the episode number43\n"
     ]
    }
   ],
   "source": [
    "take = input(\"Enter the episode number\")"
   ]
  },
  {
   "cell_type": "code",
   "execution_count": null,
   "metadata": {},
   "outputs": [],
   "source": [
    "import requests\n",
    "import urllib.request\n",
    "import re\n",
    "from bs4 import BeautifulSoup\n",
    "\n",
    "def description(epi_number):\n",
    "    r = requests.get('https://feeds.buzzsprout.com/1121972.rss')\n",
    "    soupc = BeautifulSoup(r.content, 'html.parser')\n",
    "ab = soupc.find_all('item')\n",
    "ab_small = ab[0].description\n",
    "ab_string = str(ab_small)\n",
    "xm = ab_string[22:-17]\n",
    "l = xm.split(\"<br>\")\n",
    "fine =[]\n",
    "#writing the description of the file into a untitled.txt file\n",
    "for x in l:\n",
    "    if re.findall(\":\",x):\n",
    "        fine.append(x)\n",
    "with open(\"untitled.txt\", \"w\") as output:\n",
    "    for x in fine:\n",
    "        x = x.replace(\"&nbsp;\",\"\")\n",
    "        output.write(x+'\\n')"
   ]
  },
  {
   "cell_type": "code",
   "execution_count": 50,
   "metadata": {},
   "outputs": [],
   "source": [
    "import requests\n",
    "import urllib.request\n",
    "import re\n",
    "from bs4 import BeautifulSoup\n",
    "dic ={}\n",
    "def episode_timestamps(inp):\n",
    "    for i in range(2,54):\n",
    "        r1 = requests.get('https://feeds.buzzsprout.com/1121972.rss')\n",
    "        soupd = BeautifulSoup(r1.content, 'html.parser')\n",
    "        episode_name = str(soupd.find_all('title')[i])\n",
    "        ab = soupd.find_all('item')\n",
    "        ab_small = ab[i-2].description\n",
    "        ab_string = str(ab_small)\n",
    "        xm = ab_string[22:-17]\n",
    "        l = xm.split(\"<br>\")\n",
    "        fine =[]\n",
    "#writing the description of the file into a untitled.txt file\n",
    "        for x in l:\n",
    "            if re.findall(\":\",x):\n",
    "                x = x.replace(\"&nbsp;\",\"\")\n",
    "                fine.append(x)\n",
    "        #episode_number= str(episode_name[11:13])\n",
    "        #print(episode_number)\n",
    "        #for x in fine:\n",
    "            #print(x)\n",
    "    \n",
    "        dic[episode_number]=fine\n",
    "    jack =''\n",
    "    if inp in dic.keys():\n",
    "        for x in dic[take]:\n",
    "            print(x)\n",
    "    \n",
    "    \n",
    "    \n"
   ]
  },
  {
   "cell_type": "code",
   "execution_count": 51,
   "metadata": {},
   "outputs": [],
   "source": [
    "episode_timestamps(str(45))\n"
   ]
  },
  {
   "cell_type": "code",
   "execution_count": 32,
   "metadata": {},
   "outputs": [
    {
     "name": "stdout",
     "output_type": "stream",
     "text": [
      "To submit your own questions, sign up for my mailing list at calnewport.com. You can submit audio questions at https://www.speakpipe.com/CalNewport\n",
      "Here’s the full list of topics tackled in today’s episode along with the timestamps:\n",
      "OPENING: The terribleness of my recent experiment with constant online news consumption.\n",
      "* Dealing with unproductive days [11:50]\n",
      "* My system versus David Allen’s systems [15:16]\n",
      "* The timeline for developing deep habits [22:35]\n",
      "* Assessing your own career capital [31:17]\n",
      "* The road to academic superstardom [36:05]\n",
      "* Ideal number of working hours [45:28]\n",
      "* Building a reasonable schedule for an unreasonable workload [51:32]\n",
      "* Avoiding curated content fatigue [53:41]\n",
      "* Capture technology [58:22]\n",
      "* The plan for this podcast [1:00:19]\n",
      "* Music and concentration [1:07:01]\n",
      "* Instant messaging and distraction [1:08:02]\n",
      "* Essentialism versus the deep life [1:13:48]\n",
      "* Deep home life [1:16:57]\n",
      "* My ideal work environment [1:23:37]\n",
      "* Character and the deep life [1:27:58]\n"
     ]
    }
   ],
   "source": [
    "if take in dic.keys():\n",
    "    for x in dic[take]:\n",
    "        print(x)"
   ]
  },
  {
   "cell_type": "code",
   "execution_count": null,
   "metadata": {},
   "outputs": [],
   "source": [
    "#To upload all the files to google drive\n",
    "import os\n",
    "os.remove(episode_number+\".mp3\")\n",
    "os.chdir(\"/Users/jas/Python_input\")\n",
    "\n",
    "import shutil\n",
    "shutil.move(episode_number, '/Users/jas/Google Drive')"
   ]
  }
 ],
 "metadata": {
  "kernelspec": {
   "display_name": "Python 3",
   "language": "python",
   "name": "python3"
  },
  "language_info": {
   "codemirror_mode": {
    "name": "ipython",
    "version": 3
   },
   "file_extension": ".py",
   "mimetype": "text/x-python",
   "name": "python",
   "nbconvert_exporter": "python",
   "pygments_lexer": "ipython3",
   "version": "3.7.1"
  }
 },
 "nbformat": 4,
 "nbformat_minor": 4
}
