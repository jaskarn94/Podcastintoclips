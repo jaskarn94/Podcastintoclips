{
 "cells": [
  {
   "cell_type": "code",
   "execution_count": 2,
   "metadata": {},
   "outputs": [],
   "source": [
    "f = open(\"description_about_questions_and_time_stamps.txt\",\"r+\")\n",
    "al = f.readlines()\n",
    "dic = {}\n",
    "for i in al:\n",
    "    a,b = i.split('[')\n",
    "    #b= b.remove(']')\n",
    "    b = b[0:-2]\n",
    "    dic[b]=a\n",
    "m = 0\n",
    "big={}\n",
    "for i, j in dic.items():\n",
    "    big[m]=[i,j]\n",
    "    m=m+1\n",
    "for i in range(0,len(big)):\n",
    "    if len(big[i][0].split(':'))==2:\n",
    "        m = big[i][0].split(':')\n",
    "        n = list(map(int,m))\n",
    "        n.insert(0,0)\n",
    "        e = ':'.join(map(str,n))\n",
    "        big[i][0]=e\n",
    "\n",
    "from pydub import AudioSegment\n",
    "\n",
    "files_path = ''\n",
    "file_name = '24'\n",
    "\n",
    "for i in range(len(big)):\n",
    "    startMin = int(big[i][0].split(':')[1])\n",
    "    startSec = int(big[i][0].split(':')[2])\n",
    "    startHour = int(big[i][0].split(':')[0])\n",
    "    if i != (len(big)-1):\n",
    "        endMin = int(big[i+1][0].split(':')[1])\n",
    "        endSec = int(big[i+1][0].split(':')[2])\n",
    "        endHour = int(big[i+1][0].split(':')[0])\n",
    "        \n",
    "    song = AudioSegment.from_mp3(file_name+'.mp3' )\n",
    "# Time to seconds\n",
    "    startTime = startHour*60*60*1000+startMin*60*1000+startSec*1000\n",
    "    if i==(len(big)-1):\n",
    "        endTime = len(song)\n",
    "    else:\n",
    "        endTime = endHour*60*60*1000+ endMin*60*1000+endSec*1000\n",
    "\n",
    "# Opening file and extracting segment\n",
    "    \n",
    "    extract = song[startTime:endTime]\n",
    "\n",
    "# Saving\n",
    "    extract.export( big[i][1]+'.mp3', format=\"mp3\")"
   ]
  },
  {
   "cell_type": "code",
   "execution_count": null,
   "metadata": {},
   "outputs": [],
   "source": []
  }
 ],
 "metadata": {
  "kernelspec": {
   "display_name": "Python 3",
   "language": "python",
   "name": "python3"
  },
  "language_info": {
   "codemirror_mode": {
    "name": "ipython",
    "version": 3
   },
   "file_extension": ".py",
   "mimetype": "text/x-python",
   "name": "python",
   "nbconvert_exporter": "python",
   "pygments_lexer": "ipython3",
   "version": "3.7.1"
  }
 },
 "nbformat": 4,
 "nbformat_minor": 4
}
